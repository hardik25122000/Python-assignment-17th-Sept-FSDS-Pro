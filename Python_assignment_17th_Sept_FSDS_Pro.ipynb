{
  "nbformat": 4,
  "nbformat_minor": 0,
  "metadata": {
    "colab": {
      "provenance": []
    },
    "kernelspec": {
      "name": "python3",
      "display_name": "Python 3"
    },
    "language_info": {
      "name": "python"
    }
  },
  "cells": [
    {
      "cell_type": "code",
      "execution_count": null,
      "metadata": {
        "id": "vISlZXOvcdFs"
      },
      "outputs": [],
      "source": [
        "#Write a Python program to print numbers from 1 to 10 using a for loop.\n"
      ]
    },
    {
      "cell_type": "code",
      "source": [
        "for i in range(1,11):\n",
        "  print(i,end=\" \")"
      ],
      "metadata": {
        "colab": {
          "base_uri": "https://localhost:8080/"
        },
        "id": "ZrReXReac-nx",
        "outputId": "40741836-c546-4331-e85d-d0107de28eed"
      },
      "execution_count": null,
      "outputs": [
        {
          "output_type": "stream",
          "name": "stdout",
          "text": [
            "1 2 3 4 5 6 7 8 9 10 "
          ]
        }
      ]
    },
    {
      "cell_type": "code",
      "source": [
        "#Explain the difference between a for loop and a while loop in Python"
      ],
      "metadata": {
        "id": "-7xp44ixdPwH"
      },
      "execution_count": null,
      "outputs": []
    },
    {
      "cell_type": "code",
      "source": [
        "#a)for loops iterate over a sequence, while while loops iterate based on a condition.\n",
        "#b)for loops are preferred when the number of iterations is known, whereas while loops are preferred when the number of iterations is unknown or variable."
      ],
      "metadata": {
        "id": "lVRGVXWydZyM"
      },
      "execution_count": null,
      "outputs": []
    },
    {
      "cell_type": "code",
      "source": [
        "#Write a Python program to calculate the sum of all numbers from 1 to 100 using a for loop"
      ],
      "metadata": {
        "id": "8wWtucvdeLcH"
      },
      "execution_count": null,
      "outputs": []
    },
    {
      "cell_type": "code",
      "source": [
        "k=0\n",
        "for i in range(1,101):\n",
        "  k+=i\n",
        "print(k)"
      ],
      "metadata": {
        "colab": {
          "base_uri": "https://localhost:8080/"
        },
        "id": "E2kgOzkneMkD",
        "outputId": "ed8cdc20-2165-4cc8-ddc2-63e77c512d38"
      },
      "execution_count": null,
      "outputs": [
        {
          "output_type": "stream",
          "name": "stdout",
          "text": [
            "5050\n"
          ]
        }
      ]
    },
    {
      "cell_type": "code",
      "source": [
        "#How do you iterate through a list using a for loop in Python?\n"
      ],
      "metadata": {
        "id": "VrXpvQpJel0p"
      },
      "execution_count": null,
      "outputs": []
    },
    {
      "cell_type": "markdown",
      "source": [
        "The for loop iterates through each element of the list.\n",
        "During each iteration, the loop assigns the current element to the variable item.\n",
        "The code block within the loop (indented) is executed for each element.\n",
        "You can perform operations, calculations, or any desired actions with each element inside the loop."
      ],
      "metadata": {
        "id": "VOQBWPeIfJIh"
      }
    },
    {
      "cell_type": "code",
      "source": [
        "#Write a Python program to find the product of all elements in a list using a for loop.\n"
      ],
      "metadata": {
        "id": "-qtZ2OZte4EH"
      },
      "execution_count": null,
      "outputs": []
    },
    {
      "cell_type": "code",
      "source": [
        "def product_of_list_elements(input_list):\n",
        "    product = 1\n",
        "    for element in input_list:\n",
        "        product *= element\n",
        "    return product\n",
        "\n",
        "# Example usage:\n",
        "my_list = [2, 3, 4, 5]\n",
        "result = product_of_list_elements(my_list)\n",
        "print(\"The product of all elements in the list is:\", result)\n"
      ],
      "metadata": {
        "id": "IS8vj0W8fT7G",
        "colab": {
          "base_uri": "https://localhost:8080/"
        },
        "outputId": "b99c3c38-86af-4da1-dd55-af1d369e5130"
      },
      "execution_count": 1,
      "outputs": [
        {
          "output_type": "stream",
          "name": "stdout",
          "text": [
            "The product of all elements in the list is: 120\n"
          ]
        }
      ]
    },
    {
      "cell_type": "code",
      "source": [
        "#Create a Python program that prints all even numbers from 1 to 20 using a for loop."
      ],
      "metadata": {
        "id": "CfBbr_tNJxv7"
      },
      "execution_count": 2,
      "outputs": []
    },
    {
      "cell_type": "code",
      "source": [
        "# Print even numbers from 1 to 20\n",
        "print(\"Even numbers from 1 to 20:\")\n",
        "for num in range(2, 21, 2):\n",
        "    print(num)\n"
      ],
      "metadata": {
        "colab": {
          "base_uri": "https://localhost:8080/"
        },
        "id": "K9c9_pdqJ5lZ",
        "outputId": "bd688284-b631-4ee0-f876-b76403db4929"
      },
      "execution_count": 3,
      "outputs": [
        {
          "output_type": "stream",
          "name": "stdout",
          "text": [
            "Even numbers from 1 to 20:\n",
            "2\n",
            "4\n",
            "6\n",
            "8\n",
            "10\n",
            "12\n",
            "14\n",
            "16\n",
            "18\n",
            "20\n"
          ]
        }
      ]
    },
    {
      "cell_type": "code",
      "source": [
        "#Write a Python program that calculates the factorial of a number using a for loop."
      ],
      "metadata": {
        "id": "7qKwjQOlJ9p_"
      },
      "execution_count": 4,
      "outputs": []
    },
    {
      "cell_type": "code",
      "source": [
        "def factorial(n):\n",
        "    if n < 0:\n",
        "        return \"Factorial is not defined for negative numbers.\"\n",
        "    elif n == 0:\n",
        "        return 1\n",
        "    else:\n",
        "        result = 1\n",
        "        for i in range(1, n + 1):\n",
        "            result *= i\n",
        "        return result\n",
        "\n",
        "# Input number for which factorial is to be calculated\n",
        "num = int(input(\"Enter a number: \"))\n",
        "\n",
        "# Calculate factorial\n",
        "fact = factorial(num)\n",
        "\n",
        "# Print the factorial\n",
        "print(\"Factorial of\", num, \"is\", fact)\n"
      ],
      "metadata": {
        "colab": {
          "base_uri": "https://localhost:8080/"
        },
        "id": "H1jbhyCHKAzc",
        "outputId": "3f236d1b-a1ce-4b67-a414-4d2066d3246a"
      },
      "execution_count": 5,
      "outputs": [
        {
          "output_type": "stream",
          "name": "stdout",
          "text": [
            "Enter a number: 2\n",
            "Factorial of 2 is 2\n"
          ]
        }
      ]
    },
    {
      "cell_type": "code",
      "source": [
        "#How can you iterate through the characters of a string using a for loop in Python"
      ],
      "metadata": {
        "id": "CYHIjTW7KECD"
      },
      "execution_count": 6,
      "outputs": []
    },
    {
      "cell_type": "code",
      "source": [
        "my_string = \"Hello, World!\"\n",
        "\n",
        "# Iterate through each character in the string using a for loop\n",
        "for char in my_string:\n",
        "    print(char)\n"
      ],
      "metadata": {
        "colab": {
          "base_uri": "https://localhost:8080/"
        },
        "id": "NyL8_wCTKIZK",
        "outputId": "1a6a6d20-8d00-4356-988c-183185bd0aca"
      },
      "execution_count": 7,
      "outputs": [
        {
          "output_type": "stream",
          "name": "stdout",
          "text": [
            "H\n",
            "e\n",
            "l\n",
            "l\n",
            "o\n",
            ",\n",
            " \n",
            "W\n",
            "o\n",
            "r\n",
            "l\n",
            "d\n",
            "!\n"
          ]
        }
      ]
    },
    {
      "cell_type": "code",
      "source": [
        "#Write a Python program to find the largest number in a list using a for loop.\n"
      ],
      "metadata": {
        "id": "RGDrl7ohKL2-"
      },
      "execution_count": 8,
      "outputs": []
    },
    {
      "cell_type": "code",
      "source": [
        "def find_largest_number(input_list):\n",
        "    # Check if the list is empty\n",
        "    if not input_list:\n",
        "        return \"List is empty\"\n",
        "\n",
        "    # Initialize the largest number as the first element of the list\n",
        "    largest_number = input_list[0]\n",
        "\n",
        "    # Iterate through the list to find the largest number\n",
        "    for num in input_list:\n",
        "        if num > largest_number:\n",
        "            largest_number = num\n",
        "\n",
        "    return largest_number\n",
        "\n",
        "# Example usage:\n",
        "my_list = [10, 30, 20, 50, 40]\n",
        "largest_num = find_largest_number(my_list)\n",
        "print(\"The largest number in the list is:\", largest_num)\n"
      ],
      "metadata": {
        "colab": {
          "base_uri": "https://localhost:8080/"
        },
        "id": "uGV6YVERKPU2",
        "outputId": "d952d1e0-078c-4695-b4b2-a272fac6bdf9"
      },
      "execution_count": 9,
      "outputs": [
        {
          "output_type": "stream",
          "name": "stdout",
          "text": [
            "The largest number in the list is: 50\n"
          ]
        }
      ]
    },
    {
      "cell_type": "code",
      "source": [
        "#Create a Python program that prints the Fibonacci sequence up to a specified limit using a for loop.\n"
      ],
      "metadata": {
        "id": "qV2BvgrdKSzA"
      },
      "execution_count": 10,
      "outputs": []
    },
    {
      "cell_type": "code",
      "source": [
        "def fibonacci_sequence(limit):\n",
        "    # Initialize variables for the first two numbers of the sequence\n",
        "    a, b = 0, 1\n",
        "\n",
        "    # Print the first two numbers of the sequence\n",
        "    print(\"Fibonacci sequence up to\", limit, \":\")\n",
        "    print(a)\n",
        "    print(b)\n",
        "\n",
        "    # Generate the Fibonacci sequence using a for loop\n",
        "    for _ in range(2, limit):\n",
        "        c = a + b\n",
        "        if c > limit:  # Check if the next number exceeds the limit\n",
        "            break\n",
        "        print(c)\n",
        "        a, b = b, c\n",
        "\n",
        "# Example usage:\n",
        "limit = int(input(\"Enter the limit for the Fibonacci sequence: \"))\n",
        "fibonacci_sequence(limit)\n"
      ],
      "metadata": {
        "colab": {
          "base_uri": "https://localhost:8080/"
        },
        "id": "QmrzSmvBKVfM",
        "outputId": "bc5424cf-97f6-4c00-a1a1-24bdc171fcad"
      },
      "execution_count": 11,
      "outputs": [
        {
          "output_type": "stream",
          "name": "stdout",
          "text": [
            "Enter the limit for the Fibonacci sequence: 7\n",
            "Fibonacci sequence up to 7 :\n",
            "0\n",
            "1\n",
            "1\n",
            "2\n",
            "3\n",
            "5\n"
          ]
        }
      ]
    },
    {
      "cell_type": "code",
      "source": [
        "#Write a Python program to count the number of vowels in a given string using a for loop"
      ],
      "metadata": {
        "id": "GcRB7QcrKZQa"
      },
      "execution_count": 12,
      "outputs": []
    },
    {
      "cell_type": "code",
      "source": [
        "def count_vowels(input_string):\n",
        "    # Define a set of vowels\n",
        "    vowels = {'a', 'e', 'i', 'o', 'u', 'A', 'E', 'I', 'O', 'U'}\n",
        "\n",
        "    # Initialize a counter for vowels\n",
        "    vowel_count = 0\n",
        "\n",
        "    # Iterate through each character in the string\n",
        "    for char in input_string:\n",
        "        # Check if the character is a vowel\n",
        "        if char in vowels:\n",
        "            vowel_count += 1\n",
        "\n",
        "    return vowel_count\n",
        "\n",
        "# Example usage:\n",
        "input_string = input(\"Enter a string: \")\n",
        "vowel_count = count_vowels(input_string)\n",
        "print(\"Number of vowels in the string:\", vowel_count)\n"
      ],
      "metadata": {
        "colab": {
          "base_uri": "https://localhost:8080/"
        },
        "id": "uJgQos2GKfs5",
        "outputId": "5af1871e-c277-460c-b574-433945972301"
      },
      "execution_count": 13,
      "outputs": [
        {
          "output_type": "stream",
          "name": "stdout",
          "text": [
            "Enter a string: happy holi\n",
            "Number of vowels in the string: 3\n"
          ]
        }
      ]
    },
    {
      "cell_type": "code",
      "source": [
        "#Create a Python program that generates a multiplication table for a given number using a for loop.\n"
      ],
      "metadata": {
        "id": "_03Oxq30Klra"
      },
      "execution_count": 14,
      "outputs": []
    },
    {
      "cell_type": "code",
      "source": [
        "def multiplication_table(number):\n",
        "    print(\"Multiplication table for\", number, \":\")\n",
        "    for i in range(1, 11):  # Multiplication table from 1 to 10\n",
        "        result = number * i\n",
        "        print(number, \"x\", i, \"=\", result)\n",
        "\n",
        "# Example usage:\n",
        "input_number = int(input(\"Enter a number: \"))\n",
        "multiplication_table(input_number)\n"
      ],
      "metadata": {
        "colab": {
          "base_uri": "https://localhost:8080/"
        },
        "id": "RSIxh67fKuyo",
        "outputId": "01dcfd0f-5a3f-46ca-b0f5-29ab4c856860"
      },
      "execution_count": 15,
      "outputs": [
        {
          "output_type": "stream",
          "name": "stdout",
          "text": [
            "Enter a number: 6\n",
            "Multiplication table for 6 :\n",
            "6 x 1 = 6\n",
            "6 x 2 = 12\n",
            "6 x 3 = 18\n",
            "6 x 4 = 24\n",
            "6 x 5 = 30\n",
            "6 x 6 = 36\n",
            "6 x 7 = 42\n",
            "6 x 8 = 48\n",
            "6 x 9 = 54\n",
            "6 x 10 = 60\n"
          ]
        }
      ]
    },
    {
      "cell_type": "code",
      "source": [
        "#Write a Python program to reverse a list using a for loop.\n"
      ],
      "metadata": {
        "id": "w_NIbhW-K0DT"
      },
      "execution_count": 16,
      "outputs": []
    },
    {
      "cell_type": "code",
      "source": [
        "def reverse_list(input_list):\n",
        "    reversed_list = []  # Initialize an empty list to store the reversed elements\n",
        "    for i in range(len(input_list) - 1, -1, -1):  # Iterate the list in reverse order\n",
        "        reversed_list.append(input_list[i])  # Append each element to the reversed list\n",
        "    return reversed_list\n",
        "\n",
        "# Example usage:\n",
        "my_list = [1, 2, 3, 4, 5]\n",
        "reversed_list = reverse_list(my_list)\n",
        "print(\"Original list:\", my_list)\n",
        "print(\"Reversed list:\", reversed_list)\n"
      ],
      "metadata": {
        "colab": {
          "base_uri": "https://localhost:8080/"
        },
        "id": "hPwnOJE7K39N",
        "outputId": "cca89745-921a-469e-8dd4-b2322d9a7541"
      },
      "execution_count": 17,
      "outputs": [
        {
          "output_type": "stream",
          "name": "stdout",
          "text": [
            "Original list: [1, 2, 3, 4, 5]\n",
            "Reversed list: [5, 4, 3, 2, 1]\n"
          ]
        }
      ]
    },
    {
      "cell_type": "code",
      "source": [
        "#Write a Python program to find the common elements between two lists using a for loop.\n"
      ],
      "metadata": {
        "id": "oNrG5kWGK8Wl"
      },
      "execution_count": 18,
      "outputs": []
    },
    {
      "cell_type": "code",
      "source": [
        "def find_common_elements(list1, list2):\n",
        "    common_elements = []  # Initialize an empty list to store common elements\n",
        "    for item1 in list1:\n",
        "        for item2 in list2:\n",
        "            if item1 == item2:\n",
        "                common_elements.append(item1)\n",
        "                break  # Exit inner loop once a common element is found\n",
        "    return common_elements\n",
        "\n",
        "# Example usage:\n",
        "list1 = [1, 2, 3, 4, 5]\n",
        "list2 = [3, 4, 5, 6, 7]\n",
        "common_elements = find_common_elements(list1, list2)\n",
        "print(\"Common elements between list1 and list2:\", common_elements)\n"
      ],
      "metadata": {
        "colab": {
          "base_uri": "https://localhost:8080/"
        },
        "id": "AvdFi7f6LAEZ",
        "outputId": "310d8765-2df0-4689-e80c-91cebf619677"
      },
      "execution_count": 19,
      "outputs": [
        {
          "output_type": "stream",
          "name": "stdout",
          "text": [
            "Common elements between list1 and list2: [3, 4, 5]\n"
          ]
        }
      ]
    },
    {
      "cell_type": "code",
      "source": [
        "#Explain how to use a for loop to iterate through the keys and values of a dictionary in Python"
      ],
      "metadata": {
        "id": "Jaujk8x5LE4i"
      },
      "execution_count": 20,
      "outputs": []
    },
    {
      "cell_type": "code",
      "source": [
        "my_dict = {'a': 1, 'b': 2, 'c': 3}\n",
        "\n",
        "# Iterate through keys and values using a for loop\n",
        "for key, value in my_dict.items():\n",
        "    print(\"Key:\", key, \", Value:\", value)\n"
      ],
      "metadata": {
        "colab": {
          "base_uri": "https://localhost:8080/"
        },
        "id": "v0rZGDYCLJUq",
        "outputId": "96874293-2faf-417e-b340-66a40426e98f"
      },
      "execution_count": 21,
      "outputs": [
        {
          "output_type": "stream",
          "name": "stdout",
          "text": [
            "Key: a , Value: 1\n",
            "Key: b , Value: 2\n",
            "Key: c , Value: 3\n"
          ]
        }
      ]
    },
    {
      "cell_type": "code",
      "source": [
        "#Create a Python program that checks if a string is a palindrome using a for loop"
      ],
      "metadata": {
        "id": "iz2EJagkLNO5"
      },
      "execution_count": 22,
      "outputs": []
    },
    {
      "cell_type": "code",
      "source": [
        "def is_palindrome(input_string):\n",
        "    # Convert the input string to lowercase\n",
        "    input_string = input_string.lower()\n",
        "\n",
        "    # Remove whitespace from the input string\n",
        "    input_string = input_string.replace(\" \", \"\")\n",
        "\n",
        "    # Iterate through the characters of the input string using a for loop\n",
        "    for i in range(len(input_string) // 2):\n",
        "        # Check if the characters at symmetric positions are equal\n",
        "        if input_string[i] != input_string[-i - 1]:\n",
        "            return False\n",
        "    return True\n",
        "\n",
        "# Example usage:\n",
        "input_string = input(\"Enter a string: \")\n",
        "if is_palindrome(input_string):\n",
        "    print(\"The string is a palindrome.\")\n",
        "else:\n",
        "    print(\"The string is not a palindrome.\")\n"
      ],
      "metadata": {
        "colab": {
          "base_uri": "https://localhost:8080/"
        },
        "id": "7Zk1zeYgLYHH",
        "outputId": "fbb57eb8-2b46-4a56-9390-4392db4939ec"
      },
      "execution_count": 23,
      "outputs": [
        {
          "output_type": "stream",
          "name": "stdout",
          "text": [
            "Enter a string: jana gana mann\n",
            "The string is not a palindrome.\n"
          ]
        }
      ]
    },
    {
      "cell_type": "code",
      "source": [
        "#Write a Python program to remove duplicates from a list using a for loop"
      ],
      "metadata": {
        "id": "W1QgZV16LdCW"
      },
      "execution_count": 24,
      "outputs": []
    },
    {
      "cell_type": "code",
      "source": [
        "def remove_duplicates(input_list):\n",
        "    # Create an empty list to store unique elements\n",
        "    unique_list = []\n",
        "\n",
        "    # Iterate through the input list using a for loop\n",
        "    for item in input_list:\n",
        "        # Check if the current item is not already in the unique list\n",
        "        if item not in unique_list:\n",
        "            unique_list.append(item)  # If not, add it to the unique list\n",
        "\n",
        "    return unique_list\n",
        "\n",
        "# Example usage:\n",
        "input_list = [1, 2, 3, 2, 4, 3, 5]\n",
        "unique_list = remove_duplicates(input_list)\n",
        "print(\"List after removing duplicates:\", unique_list)\n",
        "\n",
        "\n"
      ],
      "metadata": {
        "colab": {
          "base_uri": "https://localhost:8080/"
        },
        "id": "4B7kNPctLqdL",
        "outputId": "cf0ae103-3fd3-427a-bca3-10659f35ffe4"
      },
      "execution_count": 25,
      "outputs": [
        {
          "output_type": "stream",
          "name": "stdout",
          "text": [
            "List after removing duplicates: [1, 2, 3, 4, 5]\n"
          ]
        }
      ]
    },
    {
      "cell_type": "code",
      "source": [
        "#Create a Python program that counts the number of words in a sentence using a for loop.\n"
      ],
      "metadata": {
        "id": "47Vkr1KxL1UM"
      },
      "execution_count": 26,
      "outputs": []
    },
    {
      "cell_type": "code",
      "source": [
        "def count_words(sentence):\n",
        "    word_count = 0\n",
        "\n",
        "    # Iterate through each character in the sentence\n",
        "    for char in sentence:\n",
        "        # Check if the character is a space (' ')\n",
        "        if char == ' ':\n",
        "            # Increment the word count when encountering a space\n",
        "            word_count += 1\n",
        "\n",
        "    # Add 1 to the word count to account for the last word (no space after it)\n",
        "    word_count += 1\n",
        "\n",
        "    return word_count\n",
        "\n",
        "# Example usage:\n",
        "input_sentence = input(\"Enter a sentence: \")\n",
        "num_words = count_words(input_sentence)\n",
        "print(\"Number of words in the sentence:\", num_words)\n"
      ],
      "metadata": {
        "colab": {
          "base_uri": "https://localhost:8080/"
        },
        "id": "U_S5WCOfL5RJ",
        "outputId": "5f88a9c9-bc5e-48a4-93cb-0600f288f62b"
      },
      "execution_count": 27,
      "outputs": [
        {
          "output_type": "stream",
          "name": "stdout",
          "text": [
            "Enter a sentence: my name is hardik\n",
            "Number of words in the sentence: 4\n"
          ]
        }
      ]
    },
    {
      "cell_type": "code",
      "source": [
        "#Write a Python program to find the sum of all odd numbers from 1 to 50 using a for loop.\n"
      ],
      "metadata": {
        "id": "YAQLeey2L_cY"
      },
      "execution_count": 28,
      "outputs": []
    },
    {
      "cell_type": "code",
      "source": [
        "# Initialize sum\n",
        "odd_sum = 0\n",
        "\n",
        "# Iterate through numbers from 1 to 50 using a for loop\n",
        "for num in range(1, 51):\n",
        "    # Check if the number is odd\n",
        "    if num % 2 != 0:\n",
        "        # If odd, add it to the sum\n",
        "        odd_sum += num\n",
        "\n",
        "# Print the sum of all odd numbers\n",
        "print(\"Sum of all odd numbers from 1 to 50:\", odd_sum)\n"
      ],
      "metadata": {
        "colab": {
          "base_uri": "https://localhost:8080/"
        },
        "id": "--0NPljiMGB7",
        "outputId": "c296543b-be5e-47d9-f7ae-3a4872908c35"
      },
      "execution_count": 29,
      "outputs": [
        {
          "output_type": "stream",
          "name": "stdout",
          "text": [
            "Sum of all odd numbers from 1 to 50: 625\n"
          ]
        }
      ]
    },
    {
      "cell_type": "code",
      "source": [
        "#Write a Python program that checks if a given year is a leap year using a for loop"
      ],
      "metadata": {
        "id": "UpW3FdsuMLCl"
      },
      "execution_count": 30,
      "outputs": []
    },
    {
      "cell_type": "code",
      "source": [
        "def is_leap_year(year):\n",
        "    # Check if the year is divisible by 4\n",
        "    if year % 4 == 0:\n",
        "        # If divisible by 4, it might be a leap year\n",
        "        # If it's also divisible by 100, it must also be divisible by 400 to be a leap year\n",
        "        if year % 100 == 0:\n",
        "            if year % 400 == 0:\n",
        "                return True\n",
        "            else:\n",
        "                return False\n",
        "        else:\n",
        "            return True\n",
        "    else:\n",
        "        return False\n",
        "\n",
        "# Example usage:\n",
        "year = int(input(\"Enter a year: \"))\n",
        "if is_leap_year(year):\n",
        "    print(year, \"is a leap year.\")\n",
        "else:\n",
        "    print(year, \"is not a leap year.\")\n"
      ],
      "metadata": {
        "colab": {
          "base_uri": "https://localhost:8080/"
        },
        "id": "mKwCbAzGMOUo",
        "outputId": "69d33fca-79f9-4067-e48f-af391982f957"
      },
      "execution_count": 31,
      "outputs": [
        {
          "output_type": "stream",
          "name": "stdout",
          "text": [
            "Enter a year: 2020\n",
            "2020 is a leap year.\n"
          ]
        }
      ]
    },
    {
      "cell_type": "code",
      "source": [
        "#What is the `reduce()` function in Python, and what module should you import to use it? Provide an example of its basic usage.\n"
      ],
      "metadata": {
        "id": "AQS0ERD8MVFh"
      },
      "execution_count": 32,
      "outputs": []
    },
    {
      "cell_type": "markdown",
      "source": [
        "The reduce() function in Python is used to apply a particular function to the elements of an iterable (e.g., list, tuple) cumulatively to reduce the iterable to a single value. It's part of the functools module, so you need to import functools to use it."
      ],
      "metadata": {
        "id": "GLNHdRflOmhu"
      }
    },
    {
      "cell_type": "code",
      "source": [
        "#Write a Python program that uses the `reduce()` function to find the product of all elements in a list.\n"
      ],
      "metadata": {
        "id": "GBAy5sLgOoG3"
      },
      "execution_count": 33,
      "outputs": []
    },
    {
      "cell_type": "code",
      "source": [
        "from functools import reduce\n",
        "\n",
        "# Define a list of numbers\n",
        "numbers = [1, 2, 3, 4, 5]\n",
        "\n",
        "# Use reduce() to find the product of elements in the list\n",
        "product_of_numbers = reduce(lambda x, y: x * y, numbers)\n",
        "\n",
        "print(\"Product of numbers:\", product_of_numbers)\n"
      ],
      "metadata": {
        "colab": {
          "base_uri": "https://localhost:8080/"
        },
        "id": "dfbyrKcZOriE",
        "outputId": "5e8caf18-08ce-48bc-bbae-419a0a5c7b78"
      },
      "execution_count": 34,
      "outputs": [
        {
          "output_type": "stream",
          "name": "stdout",
          "text": [
            "Product of numbers: 120\n"
          ]
        }
      ]
    },
    {
      "cell_type": "code",
      "source": [
        "#Create a Python program that uses `reduce()` to find the maximum element in a list of numbers.\n"
      ],
      "metadata": {
        "id": "GoVb_DS7OxEJ"
      },
      "execution_count": 35,
      "outputs": []
    },
    {
      "cell_type": "code",
      "source": [
        "from functools import reduce\n",
        "\n",
        "# Define a list of numbers\n",
        "numbers = [5, 10, 3, 8, 15, 7]\n",
        "\n",
        "# Use reduce() to find the maximum element in the list\n",
        "max_number = reduce(lambda x, y: x if x > y else y, numbers)\n",
        "\n",
        "print(\"Maximum number:\", max_number)\n"
      ],
      "metadata": {
        "colab": {
          "base_uri": "https://localhost:8080/"
        },
        "id": "jE8vdtlCO0kF",
        "outputId": "1e62b545-10f6-4f32-eed8-cb3f8f8295f7"
      },
      "execution_count": 36,
      "outputs": [
        {
          "output_type": "stream",
          "name": "stdout",
          "text": [
            "Maximum number: 15\n"
          ]
        }
      ]
    },
    {
      "cell_type": "code",
      "source": [
        "#How can you use the `reduce()` function to concatenate a list of strings into a single string?\n"
      ],
      "metadata": {
        "id": "r2QEz8XRO4Vj"
      },
      "execution_count": 37,
      "outputs": []
    },
    {
      "cell_type": "code",
      "source": [
        "from functools import reduce\n",
        "\n",
        "# Define a list of strings\n",
        "strings = [\"Hello\", \" \", \"World\", \"!\"]\n",
        "\n",
        "# Use reduce() to concatenate the strings in the list\n",
        "concatenated_string = reduce(lambda x, y: x + y, strings)\n",
        "\n",
        "print(\"Concatenated string:\", concatenated_string)\n"
      ],
      "metadata": {
        "colab": {
          "base_uri": "https://localhost:8080/"
        },
        "id": "afjdxFrLO7et",
        "outputId": "6df89289-f2a6-4ed3-c1a7-5115726f995c"
      },
      "execution_count": 38,
      "outputs": [
        {
          "output_type": "stream",
          "name": "stdout",
          "text": [
            "Concatenated string: Hello World!\n"
          ]
        }
      ]
    },
    {
      "cell_type": "code",
      "source": [
        "#Write a Python program that calculates the factorial of a number using the `reduce()` function.\n"
      ],
      "metadata": {
        "id": "pB6EvuPwPCff"
      },
      "execution_count": 39,
      "outputs": []
    },
    {
      "cell_type": "code",
      "source": [
        "from functools import reduce\n",
        "\n",
        "def factorial(n):\n",
        "    # Check if the input number is less than 0\n",
        "    if n < 0:\n",
        "        return \"Factorial is not defined for negative numbers.\"\n",
        "    elif n == 0:\n",
        "        return 1\n",
        "    else:\n",
        "        # Use reduce() to calculate the factorial\n",
        "        return reduce(lambda x, y: x * y, range(1, n + 1))\n",
        "\n",
        "# Example usage:\n",
        "number = int(input(\"Enter a number: \"))\n",
        "result = factorial(number)\n",
        "print(\"Factorial of\", number, \"is\", result)\n"
      ],
      "metadata": {
        "colab": {
          "base_uri": "https://localhost:8080/"
        },
        "id": "4QtWwfqvPF7n",
        "outputId": "17f3ce6f-46be-4e89-cfc4-0949f0ee0152"
      },
      "execution_count": 40,
      "outputs": [
        {
          "output_type": "stream",
          "name": "stdout",
          "text": [
            "Enter a number: 9\n",
            "Factorial of 9 is 362880\n"
          ]
        }
      ]
    },
    {
      "cell_type": "code",
      "source": [
        "#Create a Python program that uses `reduce()` to find the GCD (Greatest Common Divisor) of a list of numbers.\n"
      ],
      "metadata": {
        "id": "5Ca7ygbcPL07"
      },
      "execution_count": 41,
      "outputs": []
    },
    {
      "cell_type": "code",
      "source": [
        "from functools import reduce\n",
        "import math\n",
        "\n",
        "# Define a list of numbers\n",
        "numbers = [24, 36, 48, 60]\n",
        "\n",
        "# Use reduce() to find the GCD of the numbers in the list\n",
        "gcd_of_numbers = reduce(math.gcd, numbers)\n",
        "\n",
        "print(\"GCD of numbers:\", gcd_of_numbers)\n"
      ],
      "metadata": {
        "colab": {
          "base_uri": "https://localhost:8080/"
        },
        "id": "uokg0kN_PRoe",
        "outputId": "6e59a8bc-a758-44e2-d8b9-869702f65041"
      },
      "execution_count": 42,
      "outputs": [
        {
          "output_type": "stream",
          "name": "stdout",
          "text": [
            "GCD of numbers: 12\n"
          ]
        }
      ]
    },
    {
      "cell_type": "code",
      "source": [
        "#Write a Python program that uses the `reduce()` function to find the sum of the digits of a given number.\n"
      ],
      "metadata": {
        "id": "P6hm3L_7PcOk"
      },
      "execution_count": 43,
      "outputs": []
    },
    {
      "cell_type": "code",
      "source": [
        "from functools import reduce\n",
        "\n",
        "# Function to calculate the sum of digits\n",
        "def sum_of_digits(number):\n",
        "    # Convert the number to a string and then map each digit to an integer\n",
        "    digits = list(map(int, str(number)))\n",
        "\n",
        "    # Use reduce() to find the sum of the digits\n",
        "    return reduce(lambda x, y: x + y, digits)\n",
        "\n",
        "# Example usage:\n",
        "number = int(input(\"Enter a number: \"))\n",
        "result = sum_of_digits(number)\n",
        "print(\"Sum of digits of\", number, \"is\", result)\n"
      ],
      "metadata": {
        "colab": {
          "base_uri": "https://localhost:8080/"
        },
        "id": "RETIKa5DPfiI",
        "outputId": "219eae6e-7985-46fd-e252-f078dc550985"
      },
      "execution_count": 44,
      "outputs": [
        {
          "output_type": "stream",
          "name": "stdout",
          "text": [
            "Enter a number: 5\n",
            "Sum of digits of 5 is 5\n"
          ]
        }
      ]
    },
    {
      "cell_type": "code",
      "source": [
        "#Explain the purpose of docstrings in Python functions and how to write them."
      ],
      "metadata": {
        "id": "xDN5eeSgPk5d"
      },
      "execution_count": 45,
      "outputs": []
    },
    {
      "cell_type": "markdown",
      "source": [
        "Docstrings in Python serve as documentation strings, providing a convenient way to describe the purpose, usage, and behavior of functions, classes, modules, or methods within your code. They are essentially multi-line comments that are stored as the __doc__ attribute of the object\n",
        "\n"
      ],
      "metadata": {
        "id": "8h1XHlq5PzSD"
      }
    },
    {
      "cell_type": "code",
      "source": [
        "#Describe some best practices for naming functions and variables in Python, including naming conventions and guidelines.\n"
      ],
      "metadata": {
        "id": "Nmx5cQHmPrdk"
      },
      "execution_count": 46,
      "outputs": []
    },
    {
      "cell_type": "markdown",
      "source": [
        "Use descriptive names: Choose names that accurately describe the purpose or functionality of the function or variable. Avoid single-letter or ambiguous names.\n",
        "\n",
        "Follow the naming conventions:\n",
        "\n",
        "Function names: Use lowercase letters with words separated by underscores (snake_case). Function names should be descriptive and meaningful, reflecting the action performed by the function.\n",
        "Variable names: Use lowercase letters with words separated by underscores (snake_case). Variable names should be descriptive and indicate the purpose of the variable."
      ],
      "metadata": {
        "id": "-BlbsDdvQCFM"
      }
    }
  ]
}